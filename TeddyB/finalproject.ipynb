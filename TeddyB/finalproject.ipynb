{
 "cells": [
  {
   "cell_type": "code",
   "execution_count": 1,
   "id": "42456cc4-51d2-42e4-9a79-54b1d0576b2b",
   "metadata": {},
   "outputs": [
    {
     "name": "stdout",
     "output_type": "stream",
     "text": [
      "No-Bake Nut Cookies\n",
      "1 c. firmly packed brown sugar\n",
      " 1/2 c. evaporated milk\n",
      " 1/2 tsp. vanilla\n",
      " 1/2 c. broken nuts (pecans)\n",
      " 2 Tbsp. butter or margarine\n",
      " 3 1/2 c. bite size shredded rice biscuitsIn a heavy 2-quart saucepan, mix brown sugar, nuts, evapo\n"
     ]
    }
   ],
   "source": [
    "import tensorflow as tf \n",
    "import numpy as np\n",
    "import os \n",
    "import time \n",
    "\n",
    "path_to_file = ('recipes.txt')\n",
    "text = open(path_to_file, 'rb').read().decode(encoding='utf-8') \n",
    "print(text[:250])\n"
   ]
  },
  {
   "cell_type": "code",
   "execution_count": 2,
   "id": "6f8e83b5-e3ef-45da-b467-ff849692d584",
   "metadata": {},
   "outputs": [
    {
     "name": "stdout",
     "output_type": "stream",
     "text": [
      "Length of text: 2390691 characters\n",
      "86 unique characters\n"
     ]
    }
   ],
   "source": [
    "print(f'Length of text: {len(text)} characters')\n",
    "vocab = sorted(set(text))\n",
    "print(f'{len(vocab)} unique characters')\n"
   ]
  },
  {
   "cell_type": "code",
   "execution_count": 3,
   "id": "73849875-ad41-4646-a8c6-adf7f11824e3",
   "metadata": {},
   "outputs": [],
   "source": [
    "example_texts = ['abcdefg', 'xyz']\n",
    "chars = tf.strings.unicode_split(example_texts, input_encoding='UTF-8')\n"
   ]
  },
  {
   "cell_type": "code",
   "execution_count": 4,
   "id": "3cfe992a-e4ab-41a1-91cc-778aae609681",
   "metadata": {},
   "outputs": [
    {
     "name": "stdout",
     "output_type": "stream",
     "text": [
      "<tf.RaggedTensor [[60, 61, 62, 63, 64, 65, 66], [83, 84, 85]]>\n"
     ]
    }
   ],
   "source": [
    "ids_from_chars = tf.keras.layers.StringLookup(\n",
    "    vocabulary=list(vocab), mask_token=None)\n",
    "\n",
    "ids = ids_from_chars(chars)\n",
    "\n",
    "print(ids)"
   ]
  },
  {
   "cell_type": "code",
   "execution_count": 5,
   "id": "75e8480b-0eb6-45e3-8c2f-54004698b414",
   "metadata": {},
   "outputs": [
    {
     "name": "stdout",
     "output_type": "stream",
     "text": [
      "<tf.RaggedTensor [[b'a', b'b', b'c', b'd', b'e', b'f', b'g'], [b'x', b'y', b'z']]>\n"
     ]
    }
   ],
   "source": [
    "chars_from_ids = tf.keras.layers.StringLookup(vocabulary=ids_from_chars.get_vocabulary(), invert=True, mask_token=None)\n",
    "    \n",
    "chars = chars_from_ids(ids)\n",
    "    \n",
    "print(chars)"
   ]
  },
  {
   "cell_type": "code",
   "execution_count": 6,
   "id": "3ee4baba-acc0-4d38-b7fb-2d70c6d48c47",
   "metadata": {},
   "outputs": [
    {
     "name": "stdout",
     "output_type": "stream",
     "text": [
      "tf.Tensor([b'abcdefg' b'xyz'], shape=(2,), dtype=string)\n"
     ]
    }
   ],
   "source": [
    "def text_from_ids(ids):\n",
    "    return tf.strings.reduce_join(chars_from_ids(ids), axis=-1)\n",
    "\n",
    "print(text_from_ids(ids))"
   ]
  },
  {
   "cell_type": "code",
   "execution_count": 7,
   "id": "c7afef84-8404-4dc8-b952-8b9fb1ef3fcc",
   "metadata": {},
   "outputs": [
    {
     "name": "stdout",
     "output_type": "stream",
     "text": [
      "tf.Tensor([45 74 15 ... 16  2  2], shape=(2390691,), dtype=int64)\n"
     ]
    }
   ],
   "source": [
    "all_ids = ids_from_chars(tf.strings.unicode_split(text, 'UTF-8')) \n",
    "print(all_ids) \n"
   ]
  },
  {
   "cell_type": "code",
   "execution_count": 8,
   "id": "239d649e-1ea0-45fb-8df4-918f0b2dd85e",
   "metadata": {},
   "outputs": [
    {
     "name": "stdout",
     "output_type": "stream",
     "text": [
      "N\n",
      "o\n",
      "-\n",
      "B\n",
      "a\n",
      "k\n",
      "e\n",
      " \n",
      "N\n",
      "u\n"
     ]
    }
   ],
   "source": [
    "ids_dataset = tf.data.Dataset.from_tensor_slices(all_ids)\n",
    "for ids in ids_dataset.take(10):\n",
    "    print(chars_from_ids(ids).numpy().decode('utf-8'))\n"
   ]
  },
  {
   "cell_type": "code",
   "execution_count": 9,
   "id": "82fb1501-48bf-4443-8572-5f4e699ea054",
   "metadata": {},
   "outputs": [
    {
     "name": "stdout",
     "output_type": "stream",
     "text": [
      "tf.Tensor(\n",
      "[b'N' b'o' b'-' b'B' b'a' b'k' b'e' b' ' b'N' b'u' b't' b' ' b'C' b'o'\n",
      " b'o' b'k' b'i' b'e' b's' b'\\n' b'1' b' ' b'c' b'.' b' ' b'f' b'i' b'r'\n",
      " b'm' b'l' b'y' b' ' b'p' b'a' b'c' b'k' b'e' b'd' b' ' b'b' b'r' b'o'\n",
      " b'w' b'n' b' ' b's' b'u' b'g' b'a' b'r' b'\\n' b' ' b'1' b'/' b'2' b' '\n",
      " b'c' b'.' b' ' b'e' b'v' b'a' b'p' b'o' b'r' b'a' b't' b'e' b'd' b' '\n",
      " b'm' b'i' b'l' b'k' b'\\n' b' ' b'1' b'/' b'2' b' ' b't' b's' b'p' b'.'\n",
      " b' ' b'v' b'a' b'n' b'i' b'l' b'l' b'a' b'\\n' b' ' b'1' b'/' b'2' b' '\n",
      " b'c' b'.' b' '], shape=(101,), dtype=string)\n",
      "b'No-Bake Nut Cookies\\n1 c. firmly packed brown sugar\\n 1/2 c. evaporated milk\\n 1/2 tsp. vanilla\\n 1/2 c. '\n",
      "b'broken nuts (pecans)\\n 2 Tbsp. butter or margarine\\n 3 1/2 c. bite size shredded rice biscuitsIn a heav'\n",
      "b'y 2-quart saucepan, mix brown sugar, nuts, evaporated milk and butter or margarine.\\n Stir over medium'\n",
      "b' heat until mixture bubbles all over top.\\n Boil and stir 5 minutes more. Take off heat.\\n Stir in vani'\n",
      "b'lla and cereal; mix well.\\n Using 2 teaspoons, drop and shape into 30 clusters on wax paper.\\n Let stan'\n"
     ]
    }
   ],
   "source": [
    "seq_length = 100\n",
    "examples_per_epoch = len(text)//(seq_length+1)\n",
    "sequences = ids_dataset.batch(seq_length+1, drop_remainder=True)\n",
    "for seq in sequences.take(1):\n",
    "    print(chars_from_ids(seq))\n",
    "\n",
    "for seq in sequences.take(5):\n",
    "    print(text_from_ids(seq).numpy())\n"
   ]
  },
  {
   "cell_type": "code",
   "execution_count": 10,
   "id": "a423020f-930e-4fa8-8d9c-ea6a673bf37c",
   "metadata": {},
   "outputs": [
    {
     "name": "stdout",
     "output_type": "stream",
     "text": [
      "(['i', ' ', 'l', 'o', 'v', 'e', ' ', 'i', 'd', ' ', 't', 'e', 'c'], [' ', 'l', 'o', 'v', 'e', ' ', 'i', 'd', ' ', 't', 'e', 'c', 'h'])\n"
     ]
    }
   ],
   "source": [
    "def split_input_target(sequence):\n",
    "    input_text = sequence[:-1]\n",
    "    target_text = sequence[1:]\n",
    "    return input_text, target_text\n",
    "\n",
    "print(split_input_target(list(\"i love id tech\"))) \n"
   ]
  },
  {
   "cell_type": "code",
   "execution_count": 11,
   "id": "0523c4e6-973f-4861-83ae-d120da1d93fa",
   "metadata": {},
   "outputs": [
    {
     "name": "stdout",
     "output_type": "stream",
     "text": [
      "Input : b'No-Bake Nut Cookies\\n1 c. firmly packed brown sugar\\n 1/2 c. evaporated milk\\n 1/2 tsp. vanilla\\n 1/2 c.'\n",
      "Target: b'o-Bake Nut Cookies\\n1 c. firmly packed brown sugar\\n 1/2 c. evaporated milk\\n 1/2 tsp. vanilla\\n 1/2 c. '\n"
     ]
    }
   ],
   "source": [
    "dataset = sequences.map(split_input_target) \n",
    "\n",
    "for input_example, target_example in dataset.take(1):\n",
    "    print(\"Input :\", text_from_ids(input_example).numpy())\n",
    "    print(\"Target:\", text_from_ids(target_example).numpy())\n"
   ]
  },
  {
   "cell_type": "code",
   "execution_count": 12,
   "id": "9482dfca-5c10-4826-943e-bb96f9b9f819",
   "metadata": {},
   "outputs": [
    {
     "name": "stdout",
     "output_type": "stream",
     "text": [
      "<PrefetchDataset element_spec=(TensorSpec(shape=(64, 100), dtype=tf.int64, name=None), TensorSpec(shape=(64, 100), dtype=tf.int64, name=None))>\n"
     ]
    }
   ],
   "source": [
    "BATCH_SIZE = 64\n",
    "BUFFER_SIZE = 10000\n",
    "dataset = (dataset .shuffle(BUFFER_SIZE) .batch(BATCH_SIZE, drop_remainder=True) .prefetch(tf.data.experimental.AUTOTUNE))\n",
    "print(dataset)\n"
   ]
  },
  {
   "cell_type": "code",
   "execution_count": 13,
   "id": "def0118a-03ba-408b-94ad-0008fa3d7520",
   "metadata": {},
   "outputs": [],
   "source": [
    "vocab_size = len(vocab)\n",
    "embedding_dim = 256\n",
    "rnn_units = 1024\n"
   ]
  },
  {
   "cell_type": "code",
   "execution_count": 14,
   "id": "28c97548-7e4c-481b-9365-ab99d10e749a",
   "metadata": {},
   "outputs": [],
   "source": [
    "class MyModel(tf.keras.Model):\n",
    " def __init__(self, vocab_size, embedding_dim, rnn_units):\n",
    "    super().__init__(self)\n",
    "    self.embedding = tf.keras.layers.Embedding(vocab_size, embedding_dim)\n",
    "    self.gru = tf.keras.layers.GRU(rnn_units, return_sequences=True, return_state=True)\n",
    "    self.dense = tf.keras.layers.Dense(vocab_size)\n",
    " def call(self, inputs, states=None, return_state=False, training=False):\n",
    "    x = inputs\n",
    "    x = self.embedding(x, training=training)\n",
    "    if states is None:\n",
    "      states = self.gru.get_initial_state(x)\n",
    "    x, states = self.gru(x, initial_state=states, training=training)\n",
    "    x = self.dense(x, training=training)\n",
    "    if return_state:\n",
    "      return x, states\n",
    "    else:\n",
    "      return x\n",
    "\n",
    "model = MyModel(    \n",
    "    vocab_size=len(ids_from_chars.get_vocabulary()),    \n",
    "    embedding_dim=embedding_dim,    \n",
    "    rnn_units=rnn_units)\n"
   ]
  },
  {
   "cell_type": "code",
   "execution_count": 15,
   "id": "c5aaa1bb-09cb-40bd-8502-d42591455495",
   "metadata": {},
   "outputs": [
    {
     "name": "stdout",
     "output_type": "stream",
     "text": [
      "(64, 100, 87) # (batch_size, sequence_length, vocab_size)\n",
      "Model: \"my_model\"\n",
      "_________________________________________________________________\n",
      " Layer (type)                Output Shape              Param #   \n",
      "=================================================================\n",
      " embedding (Embedding)       multiple                  22272     \n",
      "                                                                 \n",
      " gru (GRU)                   multiple                  3938304   \n",
      "                                                                 \n",
      " dense (Dense)               multiple                  89175     \n",
      "                                                                 \n",
      "=================================================================\n",
      "Total params: 4,049,751\n",
      "Trainable params: 4,049,751\n",
      "Non-trainable params: 0\n",
      "_________________________________________________________________\n"
     ]
    }
   ],
   "source": [
    "for input_example_batch, target_example_batch in dataset.take(1): \n",
    "    example_batch_predictions = model(input_example_batch) \n",
    "    print(example_batch_predictions.shape, \"# (batch_size, sequence_length, vocab_size)\") \n",
    "model.summary()\n"
   ]
  },
  {
   "cell_type": "code",
   "execution_count": 16,
   "id": "2b6ba965-2ee7-4d2f-b750-2e9f27593a4b",
   "metadata": {},
   "outputs": [
    {
     "name": "stdout",
     "output_type": "stream",
     "text": [
      "[85 17 81 49  7 75 60 82 86 83 35 60 52 20 19 38 55 61 85 79 14 26 23 32\n",
      " 21 47 36 79 15 74 71 85 68 19 40  5 52 61 68 64 71 21 15 42 22 49 27 15\n",
      " 83 60 71  8 52 21 86 60  8 16 51 69 72 68 20 42 83 16 39 24 85 13 51 12\n",
      " 41 82 85 83 34 35  6 68  5 53 21 59 26 49 81 67  7  4 76 14  0 42 33  2\n",
      " 46 70 64  2]\n",
      "Input:\n",
      " b'se Fruit Cake\\n3 eggs\\n 1 c. milk\\n 3 c. flour\\n 2 c. sugar\\n 1 c. butter\\n 1 tsp. allspice\\n 1 tsp. cinnam'\n",
      "Next Char Predictions:\n",
      " b'z/vR%paw~xDaU21GXbzt,85A3PEt-olzi1I\"Ubiel3-K4R9-xal&U3~a&.Tjmi2Kx.H6z+T*JwzxCD#i\"V3`8Rvh%!q,[UNK]KB\\nOke\\n'\n"
     ]
    }
   ],
   "source": [
    "sampled_indices = tf.random.categorical(example_batch_predictions[0], num_samples=1)\n",
    "sampled_indices = tf.squeeze(sampled_indices, axis=-1).numpy()\n",
    "print (sampled_indices)\n",
    "print(\"Input:\\n\", text_from_ids(input_example_batch[0]).numpy())\n",
    "print(\"Next Char Predictions:\\n\", text_from_ids(sampled_indices).numpy())\n"
   ]
  },
  {
   "cell_type": "code",
   "execution_count": 17,
   "id": "b1641408-9d20-4870-b9d0-9afe975085a0",
   "metadata": {},
   "outputs": [
    {
     "name": "stdout",
     "output_type": "stream",
     "text": [
      "Prediction shape:  (64, 100, 87)  # (batch_size, sequence_length, vocab_size)\n",
      "Mean loss:  tf.Tensor(4.467333, shape=(), dtype=float32)\n"
     ]
    },
    {
     "data": {
      "text/plain": [
       "87.12404"
      ]
     },
     "execution_count": 17,
     "metadata": {},
     "output_type": "execute_result"
    }
   ],
   "source": [
    "loss = tf.losses.SparseCategoricalCrossentropy(from_logits=True)\n",
    "example_batch_mean_loss = loss(target_example_batch, example_batch_predictions)\n",
    "print(\"Prediction shape: \", example_batch_predictions.shape, \" # (batch_size, sequence_length, vocab_size)\")\n",
    "print(\"Mean loss: \", example_batch_mean_loss)\n",
    "tf.exp(example_batch_mean_loss).numpy()\n"
   ]
  },
  {
   "cell_type": "code",
   "execution_count": 18,
   "id": "a8e6f1b3",
   "metadata": {},
   "outputs": [
    {
     "name": "stdout",
     "output_type": "stream",
     "text": [
      "Epoch 1/20\n",
      "369/369 [==============================] - 451s 1s/step - loss: 2.0611\n",
      "Epoch 2/20\n",
      "369/369 [==============================] - 572s 2s/step - loss: 1.0306\n",
      "Epoch 3/20\n",
      "369/369 [==============================] - 541s 1s/step - loss: 0.8679\n",
      "Epoch 4/20\n",
      "369/369 [==============================] - 469s 1s/step - loss: 0.8006\n",
      "Epoch 5/20\n",
      "369/369 [==============================] - 440s 1s/step - loss: 0.7564\n",
      "Epoch 6/20\n",
      "369/369 [==============================] - 458s 1s/step - loss: 0.7226\n",
      "Epoch 7/20\n",
      "369/369 [==============================] - 429s 1s/step - loss: 0.6939\n",
      "Epoch 8/20\n",
      "369/369 [==============================] - 441s 1s/step - loss: 0.6681\n",
      "Epoch 9/20\n",
      "369/369 [==============================] - 465s 1s/step - loss: 0.6443\n",
      "Epoch 10/20\n",
      "369/369 [==============================] - 454s 1s/step - loss: 0.6220\n",
      "Epoch 11/20\n",
      "369/369 [==============================] - 446s 1s/step - loss: 0.6013\n",
      "Epoch 12/20\n",
      "369/369 [==============================] - 437s 1s/step - loss: 0.5818\n",
      "Epoch 13/20\n",
      "369/369 [==============================] - 444s 1s/step - loss: 0.5652\n",
      "Epoch 14/20\n",
      "369/369 [==============================] - 422s 1s/step - loss: 0.5498\n",
      "Epoch 15/20\n",
      "369/369 [==============================] - 437s 1s/step - loss: 0.5374\n",
      "Epoch 16/20\n",
      "369/369 [==============================] - 439s 1s/step - loss: 0.5266\n",
      "Epoch 17/20\n",
      "369/369 [==============================] - 437s 1s/step - loss: 0.5174\n",
      "Epoch 18/20\n",
      "369/369 [==============================] - 422s 1s/step - loss: 0.5114\n",
      "Epoch 19/20\n",
      "369/369 [==============================] - 433s 1s/step - loss: 0.5055\n",
      "Epoch 20/20\n",
      "369/369 [==============================] - 445s 1s/step - loss: 0.5017\n"
     ]
    }
   ],
   "source": [
    "model.compile(optimizer='adam', loss=loss)\n",
    "checkpoint_dir = './training_checkpoints'\n",
    "checkpoint_prefix = os.path.join(checkpoint_dir, \"ckpt_{epoch}\")\n",
    "checkpoint_callback = tf.keras.callbacks.ModelCheckpoint( filepath=checkpoint_prefix, save_weights_only=True)\n",
    "EPOCHS = 20\n",
    "history = model.fit(dataset, epochs=EPOCHS, callbacks=[checkpoint_callback])\n",
    "\n",
    "\n",
    "\n",
    "\n"
   ]
  },
  {
   "cell_type": "code",
   "execution_count": 19,
   "id": "615dfaf7-4399-4215-9263-c103ad5cd214",
   "metadata": {
    "tags": []
   },
   "outputs": [],
   "source": [
    "class OneStep(tf.keras.Model):\n",
    "    def __init__(self, model, chars_from_ids, ids_from_chars, temperature=1.0):\n",
    "        super().__init__()\n",
    "        self.temperature = temperature\n",
    "        self.model = model\n",
    "        self.chars_from_ids = chars_from_ids\n",
    "        self.ids_from_chars = ids_from_chars\n",
    "\n",
    "        skip_ids = self.ids_from_chars(['[UNK]'])[:, None]\n",
    "        sparse_mask = tf.SparseTensor(\n",
    "            values=[-float('inf')]*len(skip_ids),\n",
    "            indices=skip_ids,\n",
    "            dense_shape=[len(ids_from_chars.get_vocabulary())])\n",
    "        self.prediction_mask = tf.sparse.to_dense(sparse_mask)\n",
    "\n",
    "    @tf.function\n",
    "    def generate_one_step(self, inputs, states=None):\n",
    "        input_chars = tf.strings.unicode_split(inputs, 'UTF-8') \n",
    "        input_ids = self.ids_from_chars(input_chars).to_tensor()\n",
    "        predicted_logits, states = self.model(inputs=input_ids, states=states, return_state=True)\n",
    "        predicted_logits = predicted_logits[:, -1, :]\n",
    "        predicted_logits = predicted_logits/self.temperature\n",
    "\n",
    "        predicted_logits = predicted_logits\n",
    "\n",
    "        predicted_ids = tf.random.categorical(predicted_logits, num_samples=1)\n",
    "        predicted_ids = tf.squeeze(predicted_ids, axis=-1)\n",
    "\n",
    "        predicted_chars = self.chars_from_ids(predicted_ids)\n",
    "        return predicted_chars, states\n",
    "\n",
    "one_step_model = OneStep(model, chars_from_ids, ids_from_chars)\n"
   ]
  },
  {
   "cell_type": "code",
   "execution_count": 20,
   "id": "05e44f34-19c9-437b-a448-a18db5d87947",
   "metadata": {},
   "outputs": [
    {
     "name": "stdout",
     "output_type": "stream",
     "text": [
      "\n",
      "\n",
      "Lazen Cake\n",
      "1 stick margarine\n",
      " cut in 1-inch pieces\n",
      " 2 Tbsp. butter\n",
      " 3 large ripe bananas\n",
      " skinned and boned\n",
      " 1 can mushroom soup\n",
      " onion slices (2 c. red)k small pieces) or 1 lb. sharp Cheddar cheese\n",
      " 2 cans chicken broth\n",
      " 1 small onion\n",
      " chopped\n",
      " 1 (13 oz.) can mandarin oranges\n",
      " sliced\n",
      " 1/2 c. chopped pecans\n",
      " 1/2 pkg. meale tyreal almonds are thin slice frozen onions\n",
      " salt\n",
      " pepper\n",
      " Parmesan cheesePlace pie plate potatoes.\n",
      " Increase heat to medium pieces. Heat milk, sugar and margarine in butch round stal water and dry to pist.\n",
      " Put shortening to brown top of cucumbers, walnuts.\n",
      " Heat between 20 minutes to the oven to moderate 30 minutes.\n",
      " Be sure to great balls in cookie sheet; serve warm with use side.\n",
      " Barter into pan.\n",
      " Next, melt almonds, put on cookie sheets.\n",
      " Set to ridge of fruit of your choice.\n",
      " Bake at 375\\u00b0 for 10 minutes.\n",
      "\n",
      "Special Corn Casserole\n",
      "1 small head lettuce\n",
      " 4 green onions\n",
      " sliced\n",
      " 1/2 lb. grated cheese sour cream\n",
      " 1 (10 oz.) pkg. frozen strawberries\n",
      " 1 (12 oz.) p \n",
      "\n",
      "________________________________________________________________________________\n",
      "\n",
      "Run time: 1.701747179031372\n"
     ]
    }
   ],
   "source": [
    "start = time.time()\n",
    "states = None\n",
    "\n",
    "next_char = tf.constant(['\\n\\n'])\n",
    "result = [next_char]\n",
    "\n",
    "for n in range(1000):\n",
    "    next_char, states =  one_step_model.generate_one_step(next_char, states=states)\n",
    "    result.append(next_char)\n",
    "    \n",
    "result = tf.strings.join(result)\n",
    "end = time.time()\n",
    "\n",
    "print(result[0].numpy().decode('utf-8'), '\\n\\n' + '_'*80)\n",
    "print('\\nRun time:', end - start)\n"
   ]
  },
  {
   "cell_type": "code",
   "execution_count": null,
   "id": "2adcfcf9-524e-429e-a380-339223be4c16",
   "metadata": {},
   "outputs": [],
   "source": []
  },
  {
   "cell_type": "code",
   "execution_count": null,
   "id": "db78afe8-fa69-4c71-8abc-c86e3c7296dc",
   "metadata": {},
   "outputs": [],
   "source": []
  },
  {
   "cell_type": "code",
   "execution_count": null,
   "id": "9078974a-cb44-4ec8-b979-d639528608cd",
   "metadata": {},
   "outputs": [],
   "source": []
  },
  {
   "cell_type": "code",
   "execution_count": null,
   "id": "cc6372f2-cd92-4d1b-9977-97b28818afe5",
   "metadata": {},
   "outputs": [],
   "source": []
  }
 ],
 "metadata": {
  "kernelspec": {
   "display_name": "Python 3 (ipykernel)",
   "language": "python",
   "name": "python3"
  },
  "language_info": {
   "codemirror_mode": {
    "name": "ipython",
    "version": 3
   },
   "file_extension": ".py",
   "mimetype": "text/x-python",
   "name": "python",
   "nbconvert_exporter": "python",
   "pygments_lexer": "ipython3",
   "version": "3.9.12"
  }
 },
 "nbformat": 4,
 "nbformat_minor": 5
}
